{
 "cells": [
  {
   "cell_type": "code",
   "execution_count": 2,
   "metadata": {},
   "outputs": [],
   "source": [
    "\"\"\"Lesson 1 Module.\"\"\"\n",
    "# 24.08 Вводный урок, начали разбирать комбинаторику:\n",
    "# Перестановки, Число сочетаний\n",
    "import itertools as it\n",
    "import math as m"
   ]
  },
  {
   "cell_type": "code",
   "execution_count": 3,
   "metadata": {},
   "outputs": [
    {
     "data": {
      "text/plain": [
       "6"
      ]
     },
     "execution_count": 3,
     "metadata": {},
     "output_type": "execute_result"
    }
   ],
   "source": [
    "# без документации перестановка\n",
    "\n",
    "permutations = m.factorial(3)\n",
    "permutations"
   ]
  },
  {
   "cell_type": "code",
   "execution_count": 4,
   "metadata": {},
   "outputs": [
    {
     "data": {
      "text/plain": [
       "6"
      ]
     },
     "execution_count": 4,
     "metadata": {},
     "output_type": "execute_result"
    }
   ],
   "source": [
    "# с документацией перестановка\n",
    "\n",
    "spisok = [1, 2, 3]\n",
    "perms = it.permutations(spisok)\n",
    "len(list(perms))"
   ]
  },
  {
   "cell_type": "markdown",
   "metadata": {},
   "source": [
    "\"\"\"Lesson 2 maths test.\"\"\"\n",
    "# Ряд Тейлора - это разложение функции в полином(многочлен).\n",
    "# Декартова система координат - прямоугальная система координа.т (ox, oy).\n",
    "# import math as m\n",
    "# cosx = 1 - x**n/m.factorial(n) + x**n+=2/m.factorial(n+=2) - .....\n",
    "# Четные функции это функции, симметричные относительно оси oy.\n",
    "# cosx = cos(-x).\n",
    "# Степенная функция это y = x**n."
   ]
  },
  {
   "cell_type": "code",
   "execution_count": 3,
   "metadata": {},
   "outputs": [
    {
     "data": {
      "text/plain": [
       "'Lesson 3. ТеорВер и Матстат начало.'"
      ]
     },
     "execution_count": 3,
     "metadata": {},
     "output_type": "execute_result"
    }
   ],
   "source": []
  },
  {
   "cell_type": "markdown",
   "metadata": {},
   "source": [
    "\"\"\"Lesson 3. ТеорВер и Матстат начало.\"\"\"\n",
    "три вида событий:\n",
    "невозможное\n",
    "достоверное \n",
    "случайное\n",
    "\n",
    "События называют несовместными, если в одном и том же испытании появление одного из событий исключает появление других событий.\n",
    "примером несовместных событий  является пара противоположных событий.\n",
    "не B5^ = B1 + B2 + B3 + B4 + B6\n",
    "несовместные события образуют полную группу, если в результате отдельно взятого испытания обязательно появится одно и только одно из этих событий\n",
    "Элементарное событие это то событие, которое нельзя разложить на другие.\n",
    "События называются совместными, если в отдельно взятом испытании появление одного из них не исключает появление другого.\n",
    "Сложение событий обозначает логическую связку ИЛИ,\n",
    "а умножения событий – логическую связку И.\n",
    "1) Суммой двух событий  и  называется событие  которое состоит в том, что наступит или событие , или событие , или оба события одновременно. В том случае, если событияy несовместны, последний вариант отпадает, то есть может наступить или событие  или событие . \n",
    "C1^3\n",
    "1) если наверху единица всегда пишем нижнее,\n",
    "2) если наверху число отличается на 1 от нижннего пишем всегда нижнее\n",
    "3) когда сверху и снизу одинаковые числа пишем единицу\n"
   ]
  }
 ],
 "metadata": {
  "kernelspec": {
   "display_name": "base",
   "language": "python",
   "name": "python3"
  },
  "language_info": {
   "codemirror_mode": {
    "name": "ipython",
    "version": 3
   },
   "file_extension": ".py",
   "mimetype": "text/x-python",
   "name": "python",
   "nbconvert_exporter": "python",
   "pygments_lexer": "ipython3",
   "version": "3.12.4"
  }
 },
 "nbformat": 4,
 "nbformat_minor": 2
}
