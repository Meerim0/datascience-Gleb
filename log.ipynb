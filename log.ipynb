{
 "cells": [
  {
   "cell_type": "code",
   "execution_count": 2,
   "metadata": {},
   "outputs": [],
   "source": [
    "\"\"\"Lesson 1 Module.\"\"\"\n",
    "# 24.08 Вводный урок, начали разбирать комбинаторику:\n",
    "# Перестановки, Число сочетаний\n",
    "import itertools as it\n",
    "import math as m"
   ]
  },
  {
   "cell_type": "code",
   "execution_count": 3,
   "metadata": {},
   "outputs": [
    {
     "data": {
      "text/plain": [
       "6"
      ]
     },
     "execution_count": 3,
     "metadata": {},
     "output_type": "execute_result"
    }
   ],
   "source": [
    "# без документации перестановка\n",
    "\n",
    "permutations = m.factorial(3)\n",
    "permutations"
   ]
  },
  {
   "cell_type": "code",
   "execution_count": 4,
   "metadata": {},
   "outputs": [
    {
     "data": {
      "text/plain": [
       "6"
      ]
     },
     "execution_count": 4,
     "metadata": {},
     "output_type": "execute_result"
    }
   ],
   "source": [
    "# с документацией перестановка\n",
    "\n",
    "\n",
    "spisok = [1, 2, 3]\n",
    "perms = it.permutations(spisok)\n",
    "len(list(perms))"
   ]
  },
  {
   "cell_type": "markdown",
   "metadata": {},
   "source": [
    "\"\"\"Lesson 2 maths test.\"\"\"\n",
    "# Ряд Тейлора - это разложение функции в полином(многочлен).\n",
    "# Декартова система координат - прямоугальная система координа.т (ox, oy).\n",
    "# cosx = 1 - x**n/m.factorial(n) + x**n+=2/m.factorial(n+=2) - .....\n",
    "# Четные функции это функции, симметричные относительно оси oy.\n",
    "# cosx = cos(-x).\n",
    "# Степенная функция это y = x**n."
   ]
  }
 ],
 "metadata": {
  "kernelspec": {
   "display_name": "base",
   "language": "python",
   "name": "python3"
  },
  "language_info": {
   "codemirror_mode": {
    "name": "ipython",
    "version": 3
   },
   "file_extension": ".py",
   "mimetype": "text/x-python",
   "name": "python",
   "nbconvert_exporter": "python",
   "pygments_lexer": "ipython3",
   "version": "3.12.4"
  }
 },
 "nbformat": 4,
 "nbformat_minor": 2
}
