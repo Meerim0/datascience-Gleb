{
 "cells": [
  {
   "cell_type": "code",
   "execution_count": 3,
   "metadata": {},
   "outputs": [
    {
     "data": {
      "text/plain": [
       "'Пятая глава.'"
      ]
     },
     "execution_count": 3,
     "metadata": {},
     "output_type": "execute_result"
    }
   ],
   "source": [
    "\"\"\"Пятая глава.\"\"\""
   ]
  },
  {
   "cell_type": "code",
   "execution_count": 4,
   "metadata": {},
   "outputs": [],
   "source": [
    "import itertools as it"
   ]
  },
  {
   "cell_type": "code",
   "execution_count": 7,
   "metadata": {},
   "outputs": [
    {
     "name": "stdout",
     "output_type": "stream",
     "text": [
      "111\n",
      "112\n",
      "113\n",
      "121\n",
      "122\n",
      "123\n",
      "131\n",
      "132\n",
      "133\n",
      "211\n",
      "212\n",
      "213\n",
      "221\n",
      "222\n",
      "223\n",
      "231\n",
      "232\n",
      "233\n",
      "311\n",
      "312\n",
      "313\n",
      "321\n",
      "322\n",
      "323\n",
      "331\n",
      "332\n",
      "333\n"
     ]
    }
   ],
   "source": [
    "# Сколько разных трехзначных чисел можно\n",
    "# получить, используя\n",
    "# цифры 1, 2 и 3 в разных позициях?\n",
    "# Напишите программу для\n",
    "# генерации всех таких чисел(через for)\n",
    "\n",
    "nums = [1, 2, 3]\n",
    "for i in nums:\n",
    "    for cifra in nums:\n",
    "        for unteger in nums:\n",
    "            print(str(i) + str(cifra) + str(unteger))"
   ]
  },
  {
   "cell_type": "code",
   "execution_count": 11,
   "metadata": {},
   "outputs": [
    {
     "data": {
      "text/plain": [
       "['111',\n",
       " '112',\n",
       " '113',\n",
       " '121',\n",
       " '122',\n",
       " '123',\n",
       " '131',\n",
       " '132',\n",
       " '133',\n",
       " '211',\n",
       " '212',\n",
       " '213',\n",
       " '221',\n",
       " '222',\n",
       " '223',\n",
       " '231',\n",
       " '232',\n",
       " '233',\n",
       " '311',\n",
       " '312',\n",
       " '313',\n",
       " '321',\n",
       " '322',\n",
       " '323',\n",
       " '331',\n",
       " '332',\n",
       " '333']"
      ]
     },
     "execution_count": 11,
     "metadata": {},
     "output_type": "execute_result"
    }
   ],
   "source": [
    "# С помощью гениального итертулса\n",
    "final_list = []\n",
    "numbers = [1, 2, 3]\n",
    "perms = list(it.product(numbers, repeat=3))\n",
    "for thing in perms:\n",
    "    final_list.append(\"\".join(str(item) for item in thing))\n",
    "final_list"
   ]
  },
  {
   "cell_type": "code",
   "execution_count": 8,
   "metadata": {},
   "outputs": [
    {
     "name": "stdout",
     "output_type": "stream",
     "text": [
      "Your income is: 3132031\n"
     ]
    }
   ],
   "source": [
    "# Трейдер хочет, чтобы программа\n",
    "# проверяла, получил ли он\n",
    "# прибыль или убы­ток\n",
    "# по сделке. Напишите программу, в которой с\n",
    "# клавиатуры вводится цена по­купки\n",
    "# и продажи, а в ответ программа\n",
    "# сообщает, получил ли трейдер прибыль или убыток.\n",
    "# Программа также должна рассчитать\n",
    "# сумму прибыли или убытка.\n",
    "purchase_price = int(input(\"Enter a purchase price: \"))\n",
    "sell_price = int(input(\"Enter a sell price: \"))\n",
    "total = sell_price - purchase_price\n",
    "if purchase_price > sell_price:\n",
    "    print(\"Your lesion is:\", total)\n",
    "else:\n",
    "    print(\"Your income is:\", total)"
   ]
  }
 ],
 "metadata": {
  "kernelspec": {
   "display_name": "base",
   "language": "python",
   "name": "python3"
  },
  "language_info": {
   "codemirror_mode": {
    "name": "ipython",
    "version": 3
   },
   "file_extension": ".py",
   "mimetype": "text/x-python",
   "name": "python",
   "nbconvert_exporter": "python",
   "pygments_lexer": "ipython3",
   "version": "3.12.4"
  }
 },
 "nbformat": 4,
 "nbformat_minor": 2
}
